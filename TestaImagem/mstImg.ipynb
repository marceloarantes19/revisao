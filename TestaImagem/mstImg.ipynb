{
 "cells": [
  {
   "cell_type": "code",
   "execution_count": 1,
   "metadata": {},
   "outputs": [
    {
     "name": "stdout",
     "output_type": "stream",
     "text": [
      "(2880, 2160, 3)\n"
     ]
    },
    {
     "data": {
      "text/plain": [
       "13"
      ]
     },
     "execution_count": 1,
     "metadata": {},
     "output_type": "execute_result"
    }
   ],
   "source": [
    "import cv2\n",
    "image = cv2.imread(\"PalestraRBT.jpg\")\n",
    "print(image.shape)\n",
    "cv2.imshow(\"Image\", image)\n",
    "cv2.waitKey(0)"
   ]
  },
  {
   "cell_type": "code",
   "execution_count": 5,
   "metadata": {},
   "outputs": [
    {
     "name": "stdout",
     "output_type": "stream",
     "text": [
      "(13, 10, 3)\n"
     ]
    },
    {
     "data": {
      "text/plain": [
       "13"
      ]
     },
     "execution_count": 5,
     "metadata": {},
     "output_type": "execute_result"
    }
   ],
   "source": [
    "image2 = cv2.imread(\"PalestraRBT - PQN.jpg\")\n",
    "print(image2.shape)\n",
    "cv2.imshow(\"Image\", image2)\n",
    "cv2.waitKey(0)"
   ]
  },
  {
   "cell_type": "code",
   "execution_count": 4,
   "metadata": {},
   "outputs": [
    {
     "name": "stdout",
     "output_type": "stream",
     "text": [
      "[[227 235 235]\n",
      " [195 201 200]\n",
      " [169 174 172]\n",
      " [173 176 174]\n",
      " [177 181 182]\n",
      " [171 173 174]\n",
      " [170 171 169]\n",
      " [172 171 167]\n",
      " [164 159 160]\n",
      " [153 148 149]]\n",
      "[[124 130 137]\n",
      " [ 70  74  79]\n",
      " [165 169 170]\n",
      " [184 186 187]\n",
      " [154 156 157]\n",
      " [180 182 183]\n",
      " [203 203 203]\n",
      " [181 179 178]\n",
      " [172 170 169]\n",
      " [167 165 164]]\n",
      "[[ 91  91 109]\n",
      " [ 81  81  97]\n",
      " [109 110 124]\n",
      " [173 174 184]\n",
      " [198 197 199]\n",
      " [155 153 153]\n",
      " [182 181 183]\n",
      " [237 237 237]\n",
      " [199 203 197]\n",
      " [169 174 165]]\n",
      "[[ 22  20  39]\n",
      " [ 60  58  77]\n",
      " [ 70  70  88]\n",
      " [140 140 152]\n",
      " [252 249 251]\n",
      " [243 241 240]\n",
      " [193 192 194]\n",
      " [155 157 157]\n",
      " [179 183 178]\n",
      " [180 185 176]]\n",
      "[[ 38  36  48]\n",
      " [ 80  78  90]\n",
      " [ 94  94 108]\n",
      " [251 252 255]\n",
      " [251 250 252]\n",
      " [254 255 253]\n",
      " [251 255 255]\n",
      " [228 233 232]\n",
      " [164 165 163]\n",
      " [139 137 136]]\n",
      "[[ 59  57  63]\n",
      " [ 70  69  78]\n",
      " [ 57  58  68]\n",
      " [178 180 188]\n",
      " [215 213 219]\n",
      " [216 217 221]\n",
      " [250 253 255]\n",
      " [244 247 255]\n",
      " [221 220 224]\n",
      " [205 201 206]]\n",
      "[[ 45  47  48]\n",
      " [ 45  47  48]\n",
      " [ 47  48  52]\n",
      " [  9   8  17]\n",
      " [ 85  80  95]\n",
      " [182 177 198]\n",
      " [ 60  62  86]\n",
      " [222 225 246]\n",
      " [247 247 255]\n",
      " [203 199 210]]\n",
      "[[ 36  35  39]\n",
      " [ 53  54  58]\n",
      " [ 56  59  64]\n",
      " [  0   0   8]\n",
      " [ 71  68  84]\n",
      " [109 107 127]\n",
      " [ 84  84 108]\n",
      " [246 248 255]\n",
      " [100 100 118]\n",
      " [ 73  73  89]]\n",
      "[[ 32  25  38]\n",
      " [ 64  59  74]\n",
      " [ 35  35  51]\n",
      " [ 64  67  81]\n",
      " [126 128 138]\n",
      " [165 168 176]\n",
      " [181 184 192]\n",
      " [103 105 116]\n",
      " [ 37  41  59]\n",
      " [ 74  80  99]]\n",
      "[[ 60  55  64]\n",
      " [  0   0   7]\n",
      " [ 12  12  28]\n",
      " [ 76  77  91]\n",
      " [121 123 124]\n",
      " [121 118 113]\n",
      " [160 151 138]\n",
      " [ 65  56  47]\n",
      " [ 38  38  44]\n",
      " [ 64  67  81]]\n",
      "[[ 54  58  47]\n",
      " [ 20  24  19]\n",
      " [  0   1   6]\n",
      " [ 76  76  82]\n",
      " [147 138 134]\n",
      " [137 118  97]\n",
      " [142 105  67]\n",
      " [160 124  88]\n",
      " [ 39  21  10]\n",
      " [ 46  38  39]]\n",
      "[[ 47  47  33]\n",
      " [145 148 139]\n",
      " [ 89  94  97]\n",
      " [ 56  59  67]\n",
      " [132 129 131]\n",
      " [173 157 141]\n",
      " [132  87  43]\n",
      " [153 106  55]\n",
      " [ 87  58  31]\n",
      " [ 81  62  47]]\n",
      "[[ 43  29  23]\n",
      " [ 63  56  53]\n",
      " [ 51  57  64]\n",
      " [ 81  94 110]\n",
      " [115 131 160]\n",
      " [132 134 145]\n",
      " [110  77  44]\n",
      " [147 102  51]\n",
      " [116  82  39]\n",
      " [108  79  42]]\n"
     ]
    }
   ],
   "source": [
    "for i in image2:\n",
    "  print(i)"
   ]
  },
  {
   "cell_type": "code",
   "execution_count": 6,
   "metadata": {},
   "outputs": [],
   "source": [
    "def fib(n):\n",
    "  return 1 if n < 3 else fib(n-1) + fib(n-2)"
   ]
  },
  {
   "cell_type": "code",
   "execution_count": 8,
   "metadata": {},
   "outputs": [
    {
     "data": {
      "text/plain": [
       "6765"
      ]
     },
     "execution_count": 8,
     "metadata": {},
     "output_type": "execute_result"
    }
   ],
   "source": [
    "fib(20)"
   ]
  }
 ],
 "metadata": {
  "kernelspec": {
   "display_name": "Python 3.10.5 64-bit",
   "language": "python",
   "name": "python3"
  },
  "language_info": {
   "codemirror_mode": {
    "name": "ipython",
    "version": 3
   },
   "file_extension": ".py",
   "mimetype": "text/x-python",
   "name": "python",
   "nbconvert_exporter": "python",
   "pygments_lexer": "ipython3",
   "version": "3.10.5"
  },
  "orig_nbformat": 4,
  "vscode": {
   "interpreter": {
    "hash": "fd6160a56bbbcae204042810bac3dc36d5d2e37006cb7dd96bc9f7c6f62832ae"
   }
  }
 },
 "nbformat": 4,
 "nbformat_minor": 2
}
